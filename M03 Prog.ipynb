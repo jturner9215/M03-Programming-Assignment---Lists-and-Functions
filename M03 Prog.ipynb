{
 "cells": [
  {
   "cell_type": "code",
   "execution_count": 66,
   "id": "3cfe36cf",
   "metadata": {},
   "outputs": [],
   "source": [
    "#7.4"
   ]
  },
  {
   "cell_type": "code",
   "execution_count": 67,
   "id": "041680de",
   "metadata": {},
   "outputs": [],
   "source": [
    "things = [\"mozzarella\", \"cinderella\", \"salmonella\"]"
   ]
  },
  {
   "cell_type": "code",
   "execution_count": 68,
   "id": "b9a62b31",
   "metadata": {},
   "outputs": [
    {
     "name": "stdout",
     "output_type": "stream",
     "text": [
      "['mozzarella', 'cinderella', 'salmonella']\n"
     ]
    }
   ],
   "source": [
    "print(things)"
   ]
  },
  {
   "cell_type": "code",
   "execution_count": 69,
   "id": "9004e319",
   "metadata": {},
   "outputs": [],
   "source": [
    "#7.5"
   ]
  },
  {
   "cell_type": "code",
   "execution_count": 70,
   "id": "96d74dac",
   "metadata": {},
   "outputs": [],
   "source": [
    "things[1] = \"Cinderella\""
   ]
  },
  {
   "cell_type": "code",
   "execution_count": 71,
   "id": "61c1aad1",
   "metadata": {},
   "outputs": [
    {
     "name": "stdout",
     "output_type": "stream",
     "text": [
      "['mozzarella', 'Cinderella', 'salmonella']\n"
     ]
    }
   ],
   "source": [
    "print(things)"
   ]
  },
  {
   "cell_type": "code",
   "execution_count": 72,
   "id": "f9cd2b65",
   "metadata": {},
   "outputs": [],
   "source": [
    "#7.6"
   ]
  },
  {
   "cell_type": "code",
   "execution_count": 73,
   "id": "af519673",
   "metadata": {},
   "outputs": [],
   "source": [
    "things[0] = \"MOZZARELLA\""
   ]
  },
  {
   "cell_type": "code",
   "execution_count": 74,
   "id": "edc2445b",
   "metadata": {},
   "outputs": [
    {
     "name": "stdout",
     "output_type": "stream",
     "text": [
      "['MOZZARELLA', 'Cinderella', 'salmonella']\n"
     ]
    }
   ],
   "source": [
    "print(things)"
   ]
  },
  {
   "cell_type": "code",
   "execution_count": 75,
   "id": "07853ec9",
   "metadata": {},
   "outputs": [],
   "source": [
    "#7.7"
   ]
  },
  {
   "cell_type": "code",
   "execution_count": 76,
   "id": "78bca1b9",
   "metadata": {},
   "outputs": [],
   "source": [
    "del things[-1]"
   ]
  },
  {
   "cell_type": "code",
   "execution_count": 77,
   "id": "bc01ade2",
   "metadata": {},
   "outputs": [
    {
     "name": "stdout",
     "output_type": "stream",
     "text": [
      "['MOZZARELLA', 'Cinderella']\n"
     ]
    }
   ],
   "source": [
    "print(things)"
   ]
  },
  {
   "cell_type": "code",
   "execution_count": 78,
   "id": "a7d4bd1a",
   "metadata": {},
   "outputs": [],
   "source": [
    "#9.1"
   ]
  },
  {
   "cell_type": "code",
   "execution_count": 79,
   "id": "75beafef",
   "metadata": {},
   "outputs": [],
   "source": [
    "def good():\n",
    "    return ['Harry', 'Ron', 'Hermione']"
   ]
  },
  {
   "cell_type": "code",
   "execution_count": 80,
   "id": "dcae4a87",
   "metadata": {},
   "outputs": [],
   "source": [
    "#9.2"
   ]
  },
  {
   "cell_type": "code",
   "execution_count": 81,
   "id": "1b598953",
   "metadata": {},
   "outputs": [],
   "source": [
    "def get_odds():\n",
    "    for x in range(10):\n",
    "        if (x % 2 != 0):\n",
    "            yield x\n",
    "            "
   ]
  },
  {
   "cell_type": "code",
   "execution_count": 82,
   "id": "93594abd",
   "metadata": {},
   "outputs": [
    {
     "name": "stdout",
     "output_type": "stream",
     "text": [
      "7\n"
     ]
    }
   ],
   "source": [
    "counter = 0\n",
    "for x in get_odds():\n",
    "    if (counter == 3):\n",
    "        print(x)\n",
    "    counter += 1"
   ]
  },
  {
   "cell_type": "code",
   "execution_count": null,
   "id": "542ac68f",
   "metadata": {},
   "outputs": [],
   "source": []
  }
 ],
 "metadata": {
  "kernelspec": {
   "display_name": "Python 3 (ipykernel)",
   "language": "python",
   "name": "python3"
  },
  "language_info": {
   "codemirror_mode": {
    "name": "ipython",
    "version": 3
   },
   "file_extension": ".py",
   "mimetype": "text/x-python",
   "name": "python",
   "nbconvert_exporter": "python",
   "pygments_lexer": "ipython3",
   "version": "3.10.9"
  }
 },
 "nbformat": 4,
 "nbformat_minor": 5
}
